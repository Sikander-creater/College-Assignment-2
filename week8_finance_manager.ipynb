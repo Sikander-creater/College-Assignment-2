{
  "nbformat": 4,
  "nbformat_minor": 0,
  "metadata": {
    "colab": {
      "provenance": [],
      "authorship_tag": "ABX9TyNJC6Wq7s5WlVoyZXnrYT2O",
      "include_colab_link": true
    },
    "kernelspec": {
      "name": "python3",
      "display_name": "Python 3"
    },
    "language_info": {
      "name": "python"
    }
  },
  "cells": [
    {
      "cell_type": "markdown",
      "metadata": {
        "id": "view-in-github",
        "colab_type": "text"
      },
      "source": [
        "<a href=\"https://colab.research.google.com/github/Sikander-creater/College-Assignment-2/blob/main/week8_finance_manager.ipynb\" target=\"_parent\"><img src=\"https://colab.research.google.com/assets/colab-badge.svg\" alt=\"Open In Colab\"/></a>"
      ]
    },
    {
      "cell_type": "code",
      "source": [
        "# Step 1: Function to read the file\n",
        "def load_transactions(filename):\n",
        "    \"\"\"Read lines from a transaction file safely.\"\"\"\n",
        "    try:\n",
        "        with open(filename, 'r') as file:\n",
        "            lines = file.readlines()\n",
        "        return [line.strip() for line in lines if line.strip()]\n",
        "    except FileNotFoundError:\n",
        "        print(f\"File '{filename}' not found!\")\n",
        "        return []\n",
        "# Step 2: Create the data file inside Colab\n",
        "with open(\"transactions.txt\", \"w\") as f:\n",
        "    f.write(\"\"\"Groceries,-55.40\n",
        "Salary,1500.00\n",
        "Coffee,-4.50\n",
        "BAD LINE HERE\n",
        "Netflix,-15.99\n",
        "Refund,35.50\n",
        "Internet,-80\"\"\")\n",
        "\n",
        "# Just to confirm, print the file\n",
        "!cat transactions.txt\n",
        "# Step 3: Process transactions\n",
        "def process_transactions(lines):\n",
        "    \"\"\"Process transaction lines into totals and handle bad data safely.\"\"\"\n",
        "    total_in = 0.0\n",
        "    total_out = 0.0\n",
        "    skipped = 0\n",
        "\n",
        "    for line in lines:\n",
        "        try:\n",
        "            parts = line.split(\",\")\n",
        "            if len(parts) != 2:\n",
        "                skipped += 1\n",
        "                continue\n",
        "\n",
        "            category = parts[0].strip()\n",
        "            amount_str = parts[1].strip()\n",
        "\n",
        "            amount = float(amount_str)\n",
        "\n",
        "            if amount >= 0:\n",
        "                total_in += amount\n",
        "            else:\n",
        "                total_out += amount\n",
        "\n",
        "        except Exception:\n",
        "            skipped += 1\n",
        "            continue\n",
        "\n",
        "    net = total_in + total_out\n",
        "\n",
        "    print(\"----- Transaction Summary -----\")\n",
        "    print(f\"Total income:   ${total_in:.2f}\")\n",
        "    print(f\"Total expenses: ${abs(total_out):.2f}\")\n",
        "    print(f\"Net balance:    ${net:.2f}\")\n",
        "    print(f\"Skipped lines:  {skipped}\")\n",
        "# Step 4: Run the whole pipeline\n",
        "lines = load_transactions(\"transactions.txt\")\n",
        "process_transactions(lines)\n"
      ],
      "metadata": {
        "colab": {
          "base_uri": "https://localhost:8080/"
        },
        "id": "sfu4ZuaPsybM",
        "outputId": "473d83e8-bd30-4583-9b68-d46c94d5c77e"
      },
      "execution_count": null,
      "outputs": [
        {
          "output_type": "stream",
          "name": "stdout",
          "text": [
            "Groceries,-55.40\n",
            "Salary,1500.00\n",
            "Coffee,-4.50\n",
            "BAD LINE HERE\n",
            "Netflix,-15.99\n",
            "Refund,35.50\n",
            "Internet,-80----- Transaction Summary -----\n",
            "Total income:   $1535.50\n",
            "Total expenses: $155.89\n",
            "Net balance:    $1379.61\n",
            "Skipped lines:  1\n"
          ]
        }
      ]
    }
  ]
}