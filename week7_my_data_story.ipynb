{
  "nbformat": 4,
  "nbformat_minor": 0,
  "metadata": {
    "colab": {
      "provenance": [],
      "authorship_tag": "ABX9TyMtLch7FA8NVvSaWrmweC5p",
      "include_colab_link": true
    },
    "kernelspec": {
      "name": "python3",
      "display_name": "Python 3"
    },
    "language_info": {
      "name": "python"
    }
  },
  "cells": [
    {
      "cell_type": "markdown",
      "metadata": {
        "id": "view-in-github",
        "colab_type": "text"
      },
      "source": [
        "<a href=\"https://colab.research.google.com/github/Sikander-creater/College-Assignment-2/blob/main/week7_my_data_story.ipynb\" target=\"_parent\"><img src=\"https://colab.research.google.com/assets/colab-badge.svg\" alt=\"Open In Colab\"/></a>"
      ]
    },
    {
      "cell_type": "code",
      "execution_count": null,
      "metadata": {
        "colab": {
          "base_uri": "https://localhost:8080/"
        },
        "id": "fhSVtZJUn_Nz",
        "outputId": "9cbd6f43-e0c9-48fe-af60-31894c8ec7cc"
      },
      "outputs": [
        {
          "output_type": "stream",
          "name": "stdout",
          "text": [
            "=== MY DATA STORY ===\n",
            " 1: Shopping List for the Week:\n",
            " 2: 1. Milk (2L)\n",
            " 3: 2. Tofu (5)\n",
            " 4: 3. Rice (5 kg)\n",
            " 5: 4. Oats (1)\n",
            " 6: 5. Apples (6)\n",
            " 7: 6. Bananas (8)\n",
            " 8: 7. Oranges (5)\n",
            " 9: 8. Olive oil (500 ml)\n",
            "10: 9. Maggie (2)\n",
            "11: 10. Yogurt (1)\n",
            "12: 11. Coffee (200g)\n",
            "13: 12. Dish soap\n",
            "\n",
            "--- Stats ---\n",
            "Number of lines: 13\n",
            "Number of words: 44\n"
          ]
        }
      ],
      "source": [
        "# Week 7 - My Data Story\n",
        "# Reading and analyzing my text file\n",
        "\n",
        "filename = \"my_data.txt\"\n",
        "\n",
        "# Open the file safely\n",
        "with open(filename, \"r\", encoding=\"utf-8\") as f:\n",
        "    lines = [line.strip() for line in f]\n",
        "\n",
        "# Display the file content\n",
        "print(\"=== MY DATA STORY ===\")\n",
        "for i, line in enumerate(lines, start=1):\n",
        "    print(f\"{i:>2}: {line}\")\n",
        "\n",
        "# Calculate statistics\n",
        "print(\"\\n--- Stats ---\")\n",
        "print(\"Number of lines:\", len(lines))\n",
        "print(\"Number of words:\", sum(len(l.split()) for l in lines))"
      ]
    }
  ]
}